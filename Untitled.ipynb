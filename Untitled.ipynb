{
 "cells": [
  {
   "cell_type": "code",
   "execution_count": 4,
   "id": "b5ce936d",
   "metadata": {},
   "outputs": [],
   "source": [
    "s = 'blah'"
   ]
  },
  {
   "cell_type": "code",
   "execution_count": 5,
   "id": "a97e686d",
   "metadata": {},
   "outputs": [
    {
     "data": {
      "text/plain": [
       "str"
      ]
     },
     "execution_count": 5,
     "metadata": {},
     "output_type": "execute_result"
    }
   ],
   "source": [
    "type(s)"
   ]
  },
  {
   "cell_type": "code",
   "execution_count": 7,
   "id": "d6ef1a4d",
   "metadata": {},
   "outputs": [
    {
     "data": {
      "text/plain": [
       "True"
      ]
     },
     "execution_count": 7,
     "metadata": {},
     "output_type": "execute_result"
    }
   ],
   "source": [
    "type(s) is str"
   ]
  },
  {
   "cell_type": "code",
   "execution_count": 8,
   "id": "2fd873ea",
   "metadata": {},
   "outputs": [],
   "source": [
    "class Foo:\n",
    "    pass"
   ]
  },
  {
   "cell_type": "code",
   "execution_count": 9,
   "id": "6f212d1e",
   "metadata": {},
   "outputs": [],
   "source": [
    "f = Foo()"
   ]
  },
  {
   "cell_type": "code",
   "execution_count": 11,
   "id": "a9707d0f",
   "metadata": {},
   "outputs": [
    {
     "data": {
      "text/plain": [
       "__main__.Foo"
      ]
     },
     "execution_count": 11,
     "metadata": {},
     "output_type": "execute_result"
    }
   ],
   "source": [
    "type(f)"
   ]
  },
  {
   "cell_type": "code",
   "execution_count": 13,
   "id": "42354c8b",
   "metadata": {},
   "outputs": [
    {
     "data": {
      "text/plain": [
       "True"
      ]
     },
     "execution_count": 13,
     "metadata": {},
     "output_type": "execute_result"
    }
   ],
   "source": [
    "type(f) is Foo"
   ]
  },
  {
   "cell_type": "code",
   "execution_count": 15,
   "id": "d2dae3a9",
   "metadata": {},
   "outputs": [
    {
     "data": {
      "text/plain": [
       "True"
      ]
     },
     "execution_count": 15,
     "metadata": {},
     "output_type": "execute_result"
    }
   ],
   "source": [
    "isinstance(f, Foo)"
   ]
  },
  {
   "cell_type": "code",
   "execution_count": 16,
   "id": "29abb70a",
   "metadata": {},
   "outputs": [],
   "source": [
    "class Bar(Foo):\n",
    "    pass"
   ]
  },
  {
   "cell_type": "code",
   "execution_count": 17,
   "id": "98f7abe7",
   "metadata": {},
   "outputs": [],
   "source": [
    "b = Bar()"
   ]
  },
  {
   "cell_type": "code",
   "execution_count": 19,
   "id": "24673e46",
   "metadata": {},
   "outputs": [
    {
     "data": {
      "text/plain": [
       "__main__.Bar"
      ]
     },
     "execution_count": 19,
     "metadata": {},
     "output_type": "execute_result"
    }
   ],
   "source": [
    "type(b)"
   ]
  },
  {
   "cell_type": "code",
   "execution_count": 20,
   "id": "3e078a7b",
   "metadata": {},
   "outputs": [
    {
     "data": {
      "text/plain": [
       "False"
      ]
     },
     "execution_count": 20,
     "metadata": {},
     "output_type": "execute_result"
    }
   ],
   "source": [
    "type(b) is Foo"
   ]
  },
  {
   "cell_type": "code",
   "execution_count": 22,
   "id": "07566b74",
   "metadata": {},
   "outputs": [
    {
     "data": {
      "text/plain": [
       "True"
      ]
     },
     "execution_count": 22,
     "metadata": {},
     "output_type": "execute_result"
    }
   ],
   "source": [
    "isinstance(b, Foo)"
   ]
  },
  {
   "cell_type": "code",
   "execution_count": 24,
   "id": "f090a946",
   "metadata": {},
   "outputs": [
    {
     "data": {
      "text/plain": [
       "True"
      ]
     },
     "execution_count": 24,
     "metadata": {},
     "output_type": "execute_result"
    }
   ],
   "source": [
    "issubclass(Bar, Foo)"
   ]
  },
  {
   "cell_type": "code",
   "execution_count": 27,
   "id": "e95ce76f",
   "metadata": {},
   "outputs": [
    {
     "data": {
      "text/plain": [
       "True"
      ]
     },
     "execution_count": 27,
     "metadata": {},
     "output_type": "execute_result"
    }
   ],
   "source": [
    "issubclass(type(b), Foo)"
   ]
  },
  {
   "cell_type": "code",
   "execution_count": 28,
   "id": "f37b950d",
   "metadata": {},
   "outputs": [
    {
     "data": {
      "text/plain": [
       "True"
      ]
     },
     "execution_count": 28,
     "metadata": {},
     "output_type": "execute_result"
    }
   ],
   "source": [
    "isinstance(b, Foo)"
   ]
  },
  {
   "cell_type": "code",
   "execution_count": 37,
   "id": "16ffcc5f",
   "metadata": {},
   "outputs": [],
   "source": [
    "import os, re"
   ]
  },
  {
   "cell_type": "code",
   "execution_count": 32,
   "id": "f2697d69",
   "metadata": {},
   "outputs": [],
   "source": [
    "dirname = 'data'"
   ]
  },
  {
   "cell_type": "code",
   "execution_count": 63,
   "id": "0a6e2f05",
   "metadata": {},
   "outputs": [
    {
     "data": {
      "text/plain": [
       "['2023-01.csv', '2023-02.csv', 'bank.csv']"
      ]
     },
     "execution_count": 63,
     "metadata": {},
     "output_type": "execute_result"
    }
   ],
   "source": [
    "os.listdir(dirname)"
   ]
  },
  {
   "cell_type": "code",
   "execution_count": 64,
   "id": "1d1b92d1",
   "metadata": {},
   "outputs": [],
   "source": [
    "def square(n): return n**2"
   ]
  },
  {
   "cell_type": "code",
   "execution_count": 65,
   "id": "21fc40f0",
   "metadata": {},
   "outputs": [
    {
     "data": {
      "text/plain": [
       "16"
      ]
     },
     "execution_count": 65,
     "metadata": {},
     "output_type": "execute_result"
    }
   ],
   "source": [
    "square(4)"
   ]
  },
  {
   "cell_type": "code",
   "execution_count": 70,
   "id": "973f1b9e",
   "metadata": {},
   "outputs": [
    {
     "data": {
      "text/plain": [
       "<map at 0x7fed9f14b130>"
      ]
     },
     "execution_count": 70,
     "metadata": {},
     "output_type": "execute_result"
    }
   ],
   "source": [
    "map(square, [1,2,3,4])"
   ]
  },
  {
   "cell_type": "code",
   "execution_count": 71,
   "id": "23e05a67",
   "metadata": {},
   "outputs": [],
   "source": [
    "import functools"
   ]
  },
  {
   "cell_type": "code",
   "execution_count": 75,
   "id": "f8f05fbb",
   "metadata": {},
   "outputs": [
    {
     "name": "stdout",
     "output_type": "stream",
     "text": [
      "data/2023-01.csv\n",
      "data/2023-02.csv\n",
      "data/bank.csv\n"
     ]
    }
   ],
   "source": [
    "for i in map(functools.partial(os.path.join, dirname), os.listdir(dirname)):\n",
    "    print(i)"
   ]
  },
  {
   "cell_type": "code",
   "execution_count": 76,
   "id": "71877bde",
   "metadata": {},
   "outputs": [
    {
     "name": "stdout",
     "output_type": "stream",
     "text": [
      "data/2023-01.csv\n",
      "data/2023-02.csv\n",
      "data/bank.csv\n"
     ]
    }
   ],
   "source": [
    "for i in filter(os.path.isfile, map(functools.partial(os.path.join, dirname), os.listdir(dirname))):\n",
    "    print(i)"
   ]
  },
  {
   "cell_type": "code",
   "execution_count": 77,
   "id": "fe1bdf27",
   "metadata": {},
   "outputs": [
    {
     "name": "stdout",
     "output_type": "stream",
     "text": [
      "data/2023-01.csv\n",
      "data/2023-02.csv\n"
     ]
    }
   ],
   "source": [
    "for i in filter(functools.partial(re.search, r'\\d\\d\\d\\d-\\d\\d'), \n",
    "                filter(os.path.isfile, \n",
    "                       map(functools.partial(os.path.join, dirname), \n",
    "                           os.listdir(dirname)))):\n",
    "    print(i)"
   ]
  },
  {
   "cell_type": "code",
   "execution_count": 80,
   "id": "ce8fcaec",
   "metadata": {},
   "outputs": [
    {
     "data": {
      "text/plain": [
       "[0, 1, 4, 9, 16]"
      ]
     },
     "execution_count": 80,
     "metadata": {},
     "output_type": "execute_result"
    }
   ],
   "source": [
    "[i**2 for i in range(5)]"
   ]
  },
  {
   "cell_type": "code",
   "execution_count": 81,
   "id": "b70eb46e",
   "metadata": {},
   "outputs": [
    {
     "data": {
      "text/plain": [
       "<generator object <genexpr> at 0x7fed9f1aaf10>"
      ]
     },
     "execution_count": 81,
     "metadata": {},
     "output_type": "execute_result"
    }
   ],
   "source": [
    "(i**2 for i in range(5))"
   ]
  },
  {
   "cell_type": "code",
   "execution_count": 82,
   "id": "f11c1864",
   "metadata": {},
   "outputs": [
    {
     "name": "stdout",
     "output_type": "stream",
     "text": [
      "data/2023-01.csv\n",
      "data/2023-02.csv\n"
     ]
    }
   ],
   "source": [
    "for i in filter(functools.partial(re.search, r'\\d\\d\\d\\d-\\d\\d'), \n",
    "                filter(os.path.isfile, \n",
    "                       map(functools.partial(os.path.join, dirname), \n",
    "                           os.listdir(dirname)))):\n",
    "    print(i)"
   ]
  },
  {
   "cell_type": "code",
   "execution_count": 86,
   "id": "e562b6f2",
   "metadata": {},
   "outputs": [],
   "source": [
    "df = pd.DataFrame({\n",
    "        'account': ['AT666666666666666666'],\n",
    "        'info': [r'Bezahlung Karte                              MC/000009231|POS          '\n",
    "                 r'U354  K002 31.01. 22:05|FREIGEIST\\\\GRAZ\\8010         0'],\n",
    "        'time_booked': ['02.02.2023'],\n",
    "        'time_valuta': ['31.01.2023'],\n",
    "        'amount': ['-70,00'],\n",
    "        'unit': ['EUR'],\n",
    "    })\n"
   ]
  },
  {
   "cell_type": "code",
   "execution_count": 87,
   "id": "62d48aaf",
   "metadata": {},
   "outputs": [
    {
     "data": {
      "text/html": [
       "<div>\n",
       "<style scoped>\n",
       "    .dataframe tbody tr th:only-of-type {\n",
       "        vertical-align: middle;\n",
       "    }\n",
       "\n",
       "    .dataframe tbody tr th {\n",
       "        vertical-align: top;\n",
       "    }\n",
       "\n",
       "    .dataframe thead th {\n",
       "        text-align: right;\n",
       "    }\n",
       "</style>\n",
       "<table border=\"1\" class=\"dataframe\">\n",
       "  <thead>\n",
       "    <tr style=\"text-align: right;\">\n",
       "      <th></th>\n",
       "      <th>account</th>\n",
       "      <th>info</th>\n",
       "      <th>time_booked</th>\n",
       "      <th>time_valuta</th>\n",
       "      <th>amount</th>\n",
       "      <th>unit</th>\n",
       "    </tr>\n",
       "  </thead>\n",
       "  <tbody>\n",
       "    <tr>\n",
       "      <th>0</th>\n",
       "      <td>AT666666666666666666</td>\n",
       "      <td>Bezahlung Karte                              M...</td>\n",
       "      <td>02.02.2023</td>\n",
       "      <td>31.01.2023</td>\n",
       "      <td>-70,00</td>\n",
       "      <td>EUR</td>\n",
       "    </tr>\n",
       "  </tbody>\n",
       "</table>\n",
       "</div>"
      ],
      "text/plain": [
       "                account                                               info  \\\n",
       "0  AT666666666666666666  Bezahlung Karte                              M...   \n",
       "\n",
       "  time_booked time_valuta  amount unit  \n",
       "0  02.02.2023  31.01.2023  -70,00  EUR  "
      ]
     },
     "execution_count": 87,
     "metadata": {},
     "output_type": "execute_result"
    }
   ],
   "source": [
    "df"
   ]
  },
  {
   "cell_type": "code",
   "execution_count": 89,
   "id": "42b0c1ed",
   "metadata": {},
   "outputs": [
    {
     "data": {
      "text/plain": [
       "'02.02.2023'"
      ]
     },
     "execution_count": 89,
     "metadata": {},
     "output_type": "execute_result"
    }
   ],
   "source": [
    "df['time_booked'].iloc[0]"
   ]
  },
  {
   "cell_type": "code",
   "execution_count": 90,
   "id": "691ad5e3",
   "metadata": {},
   "outputs": [],
   "source": [
    "df['time_booked'] = pd.to_datetime(df['time_booked'], format='%d.%m.%Y')"
   ]
  },
  {
   "cell_type": "code",
   "execution_count": 91,
   "id": "6f7d8d48",
   "metadata": {},
   "outputs": [
    {
     "data": {
      "text/html": [
       "<div>\n",
       "<style scoped>\n",
       "    .dataframe tbody tr th:only-of-type {\n",
       "        vertical-align: middle;\n",
       "    }\n",
       "\n",
       "    .dataframe tbody tr th {\n",
       "        vertical-align: top;\n",
       "    }\n",
       "\n",
       "    .dataframe thead th {\n",
       "        text-align: right;\n",
       "    }\n",
       "</style>\n",
       "<table border=\"1\" class=\"dataframe\">\n",
       "  <thead>\n",
       "    <tr style=\"text-align: right;\">\n",
       "      <th></th>\n",
       "      <th>account</th>\n",
       "      <th>info</th>\n",
       "      <th>time_booked</th>\n",
       "      <th>time_valuta</th>\n",
       "      <th>amount</th>\n",
       "      <th>unit</th>\n",
       "    </tr>\n",
       "  </thead>\n",
       "  <tbody>\n",
       "    <tr>\n",
       "      <th>0</th>\n",
       "      <td>AT666666666666666666</td>\n",
       "      <td>Bezahlung Karte                              M...</td>\n",
       "      <td>2023-02-02</td>\n",
       "      <td>31.01.2023</td>\n",
       "      <td>-70,00</td>\n",
       "      <td>EUR</td>\n",
       "    </tr>\n",
       "  </tbody>\n",
       "</table>\n",
       "</div>"
      ],
      "text/plain": [
       "                account                                               info  \\\n",
       "0  AT666666666666666666  Bezahlung Karte                              M...   \n",
       "\n",
       "  time_booked time_valuta  amount unit  \n",
       "0  2023-02-02  31.01.2023  -70,00  EUR  "
      ]
     },
     "execution_count": 91,
     "metadata": {},
     "output_type": "execute_result"
    }
   ],
   "source": [
    "df"
   ]
  },
  {
   "cell_type": "code",
   "execution_count": 92,
   "id": "39f0052c",
   "metadata": {},
   "outputs": [
    {
     "data": {
      "text/plain": [
       "Timestamp('2023-02-02 00:00:00')"
      ]
     },
     "execution_count": 92,
     "metadata": {},
     "output_type": "execute_result"
    }
   ],
   "source": [
    "df['time_booked'].iloc[0]"
   ]
  },
  {
   "cell_type": "code",
   "execution_count": 94,
   "id": "987341d4",
   "metadata": {},
   "outputs": [],
   "source": [
    "from datetime import datetime"
   ]
  },
  {
   "cell_type": "code",
   "execution_count": 95,
   "id": "29ad36e6",
   "metadata": {},
   "outputs": [
    {
     "data": {
      "text/plain": [
       "datetime.datetime(2023, 2, 2, 0, 0)"
      ]
     },
     "execution_count": 95,
     "metadata": {},
     "output_type": "execute_result"
    }
   ],
   "source": [
    "datetime(year=2023, month=2, day=2)"
   ]
  },
  {
   "cell_type": "code",
   "execution_count": 96,
   "id": "200dfd10",
   "metadata": {},
   "outputs": [],
   "source": [
    "import numpy"
   ]
  },
  {
   "cell_type": "code",
   "execution_count": 98,
   "id": "38f27117",
   "metadata": {},
   "outputs": [],
   "source": [
    "num = numpy.float64(666.666)"
   ]
  },
  {
   "cell_type": "code",
   "execution_count": 99,
   "id": "5a33d248",
   "metadata": {},
   "outputs": [
    {
     "data": {
      "text/plain": [
       "numpy.float64"
      ]
     },
     "execution_count": 99,
     "metadata": {},
     "output_type": "execute_result"
    }
   ],
   "source": [
    "type(num)"
   ]
  },
  {
   "cell_type": "code",
   "execution_count": 101,
   "id": "23668ac5",
   "metadata": {},
   "outputs": [
    {
     "data": {
      "text/plain": [
       "666.666"
      ]
     },
     "execution_count": 101,
     "metadata": {},
     "output_type": "execute_result"
    }
   ],
   "source": [
    "num"
   ]
  },
  {
   "cell_type": "code",
   "execution_count": 102,
   "id": "1a2d7b16",
   "metadata": {},
   "outputs": [
    {
     "data": {
      "text/plain": [
       "666.666"
      ]
     },
     "execution_count": 102,
     "metadata": {},
     "output_type": "execute_result"
    }
   ],
   "source": [
    "float(num)"
   ]
  },
  {
   "cell_type": "code",
   "execution_count": 104,
   "id": "aee92c2a",
   "metadata": {},
   "outputs": [
    {
     "data": {
      "text/plain": [
       "float"
      ]
     },
     "execution_count": 104,
     "metadata": {},
     "output_type": "execute_result"
    }
   ],
   "source": [
    "type(float(num))"
   ]
  },
  {
   "cell_type": "code",
   "execution_count": 106,
   "id": "bce1b266",
   "metadata": {},
   "outputs": [
    {
     "data": {
      "text/plain": [
       "True"
      ]
     },
     "execution_count": 106,
     "metadata": {},
     "output_type": "execute_result"
    }
   ],
   "source": [
    "hasattr(num, '__float__')"
   ]
  },
  {
   "cell_type": "code",
   "execution_count": 107,
   "id": "0c62bb13",
   "metadata": {},
   "outputs": [
    {
     "data": {
      "text/plain": [
       "666.666"
      ]
     },
     "execution_count": 107,
     "metadata": {},
     "output_type": "execute_result"
    }
   ],
   "source": [
    "float(num)"
   ]
  },
  {
   "cell_type": "code",
   "execution_count": 110,
   "id": "d3ff910e",
   "metadata": {},
   "outputs": [],
   "source": [
    "from pathlib import Path"
   ]
  },
  {
   "cell_type": "code",
   "execution_count": 111,
   "id": "efb4a7db",
   "metadata": {},
   "outputs": [],
   "source": [
    "root = Path(r'/some/directory')"
   ]
  },
  {
   "cell_type": "code",
   "execution_count": 112,
   "id": "4d1754e9",
   "metadata": {},
   "outputs": [
    {
     "data": {
      "text/plain": [
       "PosixPath('/some/directory/subdir')"
      ]
     },
     "execution_count": 112,
     "metadata": {},
     "output_type": "execute_result"
    }
   ],
   "source": [
    "root / 'subdir'"
   ]
  },
  {
   "cell_type": "code",
   "execution_count": 143,
   "id": "811ea1a4",
   "metadata": {},
   "outputs": [],
   "source": [
    "def f(a): pass"
   ]
  },
  {
   "cell_type": "code",
   "execution_count": 146,
   "id": "b29dfa00",
   "metadata": {},
   "outputs": [],
   "source": [
    "from inspect import signature"
   ]
  },
  {
   "cell_type": "code",
   "execution_count": 149,
   "id": "40c65186",
   "metadata": {},
   "outputs": [],
   "source": [
    "sig = signature(f)"
   ]
  },
  {
   "cell_type": "code",
   "execution_count": 151,
   "id": "cd8dea19",
   "metadata": {},
   "outputs": [
    {
     "data": {
      "text/plain": [
       "<Signature (a)>"
      ]
     },
     "execution_count": 151,
     "metadata": {},
     "output_type": "execute_result"
    }
   ],
   "source": [
    "sig"
   ]
  },
  {
   "cell_type": "code",
   "execution_count": 152,
   "id": "aa4ee7ea",
   "metadata": {},
   "outputs": [
    {
     "data": {
      "text/plain": [
       "['__class__',\n",
       " '__delattr__',\n",
       " '__dir__',\n",
       " '__doc__',\n",
       " '__eq__',\n",
       " '__format__',\n",
       " '__ge__',\n",
       " '__getattribute__',\n",
       " '__gt__',\n",
       " '__hash__',\n",
       " '__init__',\n",
       " '__init_subclass__',\n",
       " '__le__',\n",
       " '__lt__',\n",
       " '__module__',\n",
       " '__ne__',\n",
       " '__new__',\n",
       " '__reduce__',\n",
       " '__reduce_ex__',\n",
       " '__repr__',\n",
       " '__setattr__',\n",
       " '__setstate__',\n",
       " '__sizeof__',\n",
       " '__slots__',\n",
       " '__str__',\n",
       " '__subclasshook__',\n",
       " '_bind',\n",
       " '_bound_arguments_cls',\n",
       " '_hash_basis',\n",
       " '_parameter_cls',\n",
       " '_parameters',\n",
       " '_return_annotation',\n",
       " 'bind',\n",
       " 'bind_partial',\n",
       " 'empty',\n",
       " 'from_builtin',\n",
       " 'from_callable',\n",
       " 'from_function',\n",
       " 'parameters',\n",
       " 'replace',\n",
       " 'return_annotation']"
      ]
     },
     "execution_count": 152,
     "metadata": {},
     "output_type": "execute_result"
    }
   ],
   "source": [
    "dir(sig)"
   ]
  },
  {
   "cell_type": "code",
   "execution_count": 153,
   "id": "1c78f7e0",
   "metadata": {},
   "outputs": [
    {
     "data": {
      "text/plain": [
       "mappingproxy({'a': <Parameter \"a\">})"
      ]
     },
     "execution_count": 153,
     "metadata": {},
     "output_type": "execute_result"
    }
   ],
   "source": [
    "sig.parameters"
   ]
  },
  {
   "cell_type": "code",
   "execution_count": 156,
   "id": "8f88f943",
   "metadata": {},
   "outputs": [],
   "source": [
    "import os"
   ]
  },
  {
   "cell_type": "code",
   "execution_count": 157,
   "id": "b10a0f62",
   "metadata": {},
   "outputs": [
    {
     "data": {
      "text/plain": [
       "module"
      ]
     },
     "execution_count": 157,
     "metadata": {},
     "output_type": "execute_result"
    }
   ],
   "source": [
    "type(os)"
   ]
  },
  {
   "cell_type": "code",
   "execution_count": 155,
   "id": "0d2b8611",
   "metadata": {},
   "outputs": [
    {
     "data": {
      "text/plain": [
       "<function posix.listdir(path=None)>"
      ]
     },
     "execution_count": 155,
     "metadata": {},
     "output_type": "execute_result"
    }
   ],
   "source": [
    "os.listdir"
   ]
  },
  {
   "cell_type": "code",
   "execution_count": 159,
   "id": "1d9682ff",
   "metadata": {},
   "outputs": [
    {
     "data": {
      "text/plain": [
       "<function posix.listdir(path=None)>"
      ]
     },
     "execution_count": 159,
     "metadata": {},
     "output_type": "execute_result"
    }
   ],
   "source": [
    "os.__dict__['listdir']"
   ]
  },
  {
   "cell_type": "code",
   "execution_count": 161,
   "id": "ef498f5d",
   "metadata": {},
   "outputs": [
    {
     "name": "stdout",
     "output_type": "stream",
     "text": [
      "1\n",
      "4\n",
      "9\n",
      "16\n"
     ]
    }
   ],
   "source": [
    "for sq in map(lambda i: i**2, [1,2,3,4]):\n",
    "    print(sq)"
   ]
  },
  {
   "cell_type": "code",
   "execution_count": 162,
   "id": "41a5b044",
   "metadata": {},
   "outputs": [
    {
     "data": {
      "text/plain": [
       "<map at 0x7fed9efe3c70>"
      ]
     },
     "execution_count": 162,
     "metadata": {},
     "output_type": "execute_result"
    }
   ],
   "source": [
    "map(lambda i: i**2, [1,2,3,4])"
   ]
  },
  {
   "cell_type": "code",
   "execution_count": 174,
   "id": "69a8654e",
   "metadata": {},
   "outputs": [],
   "source": [
    "def partial(func, arg):\n",
    "    def inner(another_arg):\n",
    "        return func(arg, another_arg)\n",
    "    return inner"
   ]
  },
  {
   "cell_type": "code",
   "execution_count": 175,
   "id": "23393e68",
   "metadata": {},
   "outputs": [],
   "source": [
    "myfunc = partial(print, 'hello')"
   ]
  },
  {
   "cell_type": "code",
   "execution_count": 176,
   "id": "5c88e823",
   "metadata": {},
   "outputs": [],
   "source": [
    "anotherfunc = partial(os.path.join, '/root')"
   ]
  },
  {
   "cell_type": "code",
   "execution_count": 177,
   "id": "b2570dc9",
   "metadata": {},
   "outputs": [
    {
     "name": "stdout",
     "output_type": "stream",
     "text": [
      "hello world\n"
     ]
    }
   ],
   "source": [
    "myfunc('world')"
   ]
  },
  {
   "cell_type": "code",
   "execution_count": 178,
   "id": "f4ec340a",
   "metadata": {},
   "outputs": [
    {
     "data": {
      "text/plain": [
       "'/root/dir'"
      ]
     },
     "execution_count": 178,
     "metadata": {},
     "output_type": "execute_result"
    }
   ],
   "source": [
    "anotherfunc('dir')"
   ]
  },
  {
   "cell_type": "code",
   "execution_count": 180,
   "id": "ad8fc69a",
   "metadata": {},
   "outputs": [],
   "source": [
    "def partial(func, *args):\n",
    "    def inner(*more_args):\n",
    "        real_args = args + more_args\n",
    "        return func(*real_args)\n",
    "    return inner"
   ]
  },
  {
   "cell_type": "code",
   "execution_count": 182,
   "id": "e0caafb3",
   "metadata": {},
   "outputs": [],
   "source": [
    "yetanotherfunc = partial(print, 'a', 'b', 'c')"
   ]
  },
  {
   "cell_type": "code",
   "execution_count": 183,
   "id": "ea53d8b4",
   "metadata": {},
   "outputs": [
    {
     "name": "stdout",
     "output_type": "stream",
     "text": [
      "a b c d e\n"
     ]
    }
   ],
   "source": [
    "yetanotherfunc('d', 'e')"
   ]
  }
 ],
 "metadata": {
  "kernelspec": {
   "display_name": "Python 3 (ipykernel)",
   "language": "python",
   "name": "python3"
  },
  "language_info": {
   "codemirror_mode": {
    "name": "ipython",
    "version": 3
   },
   "file_extension": ".py",
   "mimetype": "text/x-python",
   "name": "python",
   "nbconvert_exporter": "python",
   "pygments_lexer": "ipython3",
   "version": "3.10.7"
  }
 },
 "nbformat": 4,
 "nbformat_minor": 5
}
